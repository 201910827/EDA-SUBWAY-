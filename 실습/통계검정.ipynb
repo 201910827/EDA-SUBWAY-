{
 "cells": [
  {
   "cell_type": "markdown",
   "id": "563ad28d",
   "metadata": {},
   "source": [
    "# 2019년 1월 ~ 6월중 목요일에 지하철 승객 수가 많은가?"
   ]
  },
  {
   "cell_type": "code",
   "execution_count": 78,
   "id": "3072570e",
   "metadata": {},
   "outputs": [],
   "source": [
    "import os\n",
    "import pandas as pd\n",
    "import matplotlib.pyplot as plt\n",
    "plt.rcParams['font.family'] = 'Malgun Gothic'\n",
    "%matplotlib inline \n",
    "import scipy.stats as stats\n",
    "import numpy as np"
   ]
  },
  {
   "cell_type": "code",
   "execution_count": 68,
   "id": "c911e578",
   "metadata": {},
   "outputs": [],
   "source": [
    "os.listdir()\n",
    "dirpath = './rawfiles/'\n",
    "files = os.listdir(dirpath)\n",
    "raw = pd.DataFrame()\n",
    "\n",
    "for file in files:\n",
    "    if file =='CARD_SUBWAY_MONTH_201907.csv':\n",
    "        break\n",
    "    else:\n",
    "        temp = pd.read_csv(dirpath+file)\n",
    "        raw = pd.concat([raw,temp],axis=0)\n",
    "raw['사용일자'] = pd.to_datetime(raw['사용일자'], format='%Y%m%d')\n",
    "raw['요일'] = raw['사용일자'].dt.dayofweek"
   ]
  },
  {
   "cell_type": "code",
   "execution_count": 69,
   "id": "0af618dd",
   "metadata": {},
   "outputs": [],
   "source": [
    "conv = {\n",
    "    0 : '월',\n",
    "    1 : '화',\n",
    "    2 : '수',\n",
    "    3 : '목',\n",
    "    4 : '금',\n",
    "    5 : '토',\n",
    "    6 : '일'\n",
    "}\n",
    "raw['요일'] = raw['요일'].map(conv)\n",
    "raw[\"월\"] = raw['사용일자'].dt.strftime('%m')      \n",
    "raw['연월'] = raw['사용일자'].dt.strftime('%Y-%m')\n",
    "raw['월일'] = raw['사용일자'].dt.strftime('%m-%d')\n",
    "raw['승하자총승객수'] = raw['승차총승객수'] + raw['하차총승객수']\n",
    "raw = raw[['사용일자','월','요일','노선명','역명','승차총승객수', '하차총승객수', '승하자총승객수','등록일자','연월','월일']]"
   ]
  },
  {
   "cell_type": "code",
   "execution_count": 103,
   "id": "f942508c",
   "metadata": {},
   "outputs": [
    {
     "data": {
      "text/html": [
       "<div>\n",
       "<style scoped>\n",
       "    .dataframe tbody tr th:only-of-type {\n",
       "        vertical-align: middle;\n",
       "    }\n",
       "\n",
       "    .dataframe tbody tr th {\n",
       "        vertical-align: top;\n",
       "    }\n",
       "\n",
       "    .dataframe thead th {\n",
       "        text-align: right;\n",
       "    }\n",
       "</style>\n",
       "<table border=\"1\" class=\"dataframe\">\n",
       "  <thead>\n",
       "    <tr style=\"text-align: right;\">\n",
       "      <th></th>\n",
       "      <th>사용일자</th>\n",
       "      <th>월</th>\n",
       "      <th>요일</th>\n",
       "      <th>노선명</th>\n",
       "      <th>역명</th>\n",
       "      <th>승차총승객수</th>\n",
       "      <th>하차총승객수</th>\n",
       "      <th>승하자총승객수</th>\n",
       "      <th>등록일자</th>\n",
       "      <th>연월</th>\n",
       "      <th>월일</th>\n",
       "    </tr>\n",
       "  </thead>\n",
       "  <tbody>\n",
       "    <tr>\n",
       "      <th>0</th>\n",
       "      <td>2019-01-01</td>\n",
       "      <td>01</td>\n",
       "      <td>화</td>\n",
       "      <td>2호선</td>\n",
       "      <td>을지로4가</td>\n",
       "      <td>3862.0</td>\n",
       "      <td>3728.0</td>\n",
       "      <td>7590.0</td>\n",
       "      <td>20190104</td>\n",
       "      <td>2019-01</td>\n",
       "      <td>01-01</td>\n",
       "    </tr>\n",
       "    <tr>\n",
       "      <th>1</th>\n",
       "      <td>2019-01-01</td>\n",
       "      <td>01</td>\n",
       "      <td>화</td>\n",
       "      <td>3호선</td>\n",
       "      <td>을지로3가</td>\n",
       "      <td>8104.0</td>\n",
       "      <td>7554.0</td>\n",
       "      <td>15658.0</td>\n",
       "      <td>20190104</td>\n",
       "      <td>2019-01</td>\n",
       "      <td>01-01</td>\n",
       "    </tr>\n",
       "    <tr>\n",
       "      <th>2</th>\n",
       "      <td>2019-01-01</td>\n",
       "      <td>01</td>\n",
       "      <td>화</td>\n",
       "      <td>2호선</td>\n",
       "      <td>을지로입구</td>\n",
       "      <td>22478.0</td>\n",
       "      <td>21330.0</td>\n",
       "      <td>43808.0</td>\n",
       "      <td>20190104</td>\n",
       "      <td>2019-01</td>\n",
       "      <td>01-01</td>\n",
       "    </tr>\n",
       "    <tr>\n",
       "      <th>3</th>\n",
       "      <td>2019-01-01</td>\n",
       "      <td>01</td>\n",
       "      <td>화</td>\n",
       "      <td>2호선</td>\n",
       "      <td>시청</td>\n",
       "      <td>8381.0</td>\n",
       "      <td>6049.0</td>\n",
       "      <td>14430.0</td>\n",
       "      <td>20190104</td>\n",
       "      <td>2019-01</td>\n",
       "      <td>01-01</td>\n",
       "    </tr>\n",
       "    <tr>\n",
       "      <th>4</th>\n",
       "      <td>2019-01-01</td>\n",
       "      <td>01</td>\n",
       "      <td>화</td>\n",
       "      <td>6호선</td>\n",
       "      <td>동묘앞</td>\n",
       "      <td>8045.0</td>\n",
       "      <td>8504.0</td>\n",
       "      <td>16549.0</td>\n",
       "      <td>20190104</td>\n",
       "      <td>2019-01</td>\n",
       "      <td>01-01</td>\n",
       "    </tr>\n",
       "    <tr>\n",
       "      <th>...</th>\n",
       "      <td>...</td>\n",
       "      <td>...</td>\n",
       "      <td>...</td>\n",
       "      <td>...</td>\n",
       "      <td>...</td>\n",
       "      <td>...</td>\n",
       "      <td>...</td>\n",
       "      <td>...</td>\n",
       "      <td>...</td>\n",
       "      <td>...</td>\n",
       "      <td>...</td>\n",
       "    </tr>\n",
       "    <tr>\n",
       "      <th>17719</th>\n",
       "      <td>2019-06-30</td>\n",
       "      <td>06</td>\n",
       "      <td>일</td>\n",
       "      <td>7호선</td>\n",
       "      <td>마들</td>\n",
       "      <td>6622.0</td>\n",
       "      <td>6116.0</td>\n",
       "      <td>12738.0</td>\n",
       "      <td>20190703</td>\n",
       "      <td>2019-06</td>\n",
       "      <td>06-30</td>\n",
       "    </tr>\n",
       "    <tr>\n",
       "      <th>17720</th>\n",
       "      <td>2019-06-30</td>\n",
       "      <td>06</td>\n",
       "      <td>일</td>\n",
       "      <td>4호선</td>\n",
       "      <td>노원</td>\n",
       "      <td>14071.0</td>\n",
       "      <td>14702.0</td>\n",
       "      <td>28773.0</td>\n",
       "      <td>20190703</td>\n",
       "      <td>2019-06</td>\n",
       "      <td>06-30</td>\n",
       "    </tr>\n",
       "    <tr>\n",
       "      <th>17721</th>\n",
       "      <td>2019-06-30</td>\n",
       "      <td>06</td>\n",
       "      <td>일</td>\n",
       "      <td>7호선</td>\n",
       "      <td>중계</td>\n",
       "      <td>9516.0</td>\n",
       "      <td>8981.0</td>\n",
       "      <td>18497.0</td>\n",
       "      <td>20190703</td>\n",
       "      <td>2019-06</td>\n",
       "      <td>06-30</td>\n",
       "    </tr>\n",
       "    <tr>\n",
       "      <th>17722</th>\n",
       "      <td>2019-06-30</td>\n",
       "      <td>06</td>\n",
       "      <td>일</td>\n",
       "      <td>7호선</td>\n",
       "      <td>하계</td>\n",
       "      <td>11645.0</td>\n",
       "      <td>11121.0</td>\n",
       "      <td>22766.0</td>\n",
       "      <td>20190703</td>\n",
       "      <td>2019-06</td>\n",
       "      <td>06-30</td>\n",
       "    </tr>\n",
       "    <tr>\n",
       "      <th>17723</th>\n",
       "      <td>2019-06-30</td>\n",
       "      <td>06</td>\n",
       "      <td>일</td>\n",
       "      <td>6호선</td>\n",
       "      <td>태릉입구</td>\n",
       "      <td>5730.0</td>\n",
       "      <td>5214.0</td>\n",
       "      <td>10944.0</td>\n",
       "      <td>20190703</td>\n",
       "      <td>2019-06</td>\n",
       "      <td>06-30</td>\n",
       "    </tr>\n",
       "  </tbody>\n",
       "</table>\n",
       "<p>107028 rows × 11 columns</p>\n",
       "</div>"
      ],
      "text/plain": [
       "            사용일자   월 요일  노선명     역명   승차총승객수   하차총승객수  승하자총승객수      등록일자  \\\n",
       "0     2019-01-01  01  화  2호선  을지로4가   3862.0   3728.0   7590.0  20190104   \n",
       "1     2019-01-01  01  화  3호선  을지로3가   8104.0   7554.0  15658.0  20190104   \n",
       "2     2019-01-01  01  화  2호선  을지로입구  22478.0  21330.0  43808.0  20190104   \n",
       "3     2019-01-01  01  화  2호선     시청   8381.0   6049.0  14430.0  20190104   \n",
       "4     2019-01-01  01  화  6호선    동묘앞   8045.0   8504.0  16549.0  20190104   \n",
       "...          ...  .. ..  ...    ...      ...      ...      ...       ...   \n",
       "17719 2019-06-30  06  일  7호선     마들   6622.0   6116.0  12738.0  20190703   \n",
       "17720 2019-06-30  06  일  4호선     노원  14071.0  14702.0  28773.0  20190703   \n",
       "17721 2019-06-30  06  일  7호선     중계   9516.0   8981.0  18497.0  20190703   \n",
       "17722 2019-06-30  06  일  7호선     하계  11645.0  11121.0  22766.0  20190703   \n",
       "17723 2019-06-30  06  일  6호선   태릉입구   5730.0   5214.0  10944.0  20190703   \n",
       "\n",
       "            연월     월일  \n",
       "0      2019-01  01-01  \n",
       "1      2019-01  01-01  \n",
       "2      2019-01  01-01  \n",
       "3      2019-01  01-01  \n",
       "4      2019-01  01-01  \n",
       "...        ...    ...  \n",
       "17719  2019-06  06-30  \n",
       "17720  2019-06  06-30  \n",
       "17721  2019-06  06-30  \n",
       "17722  2019-06  06-30  \n",
       "17723  2019-06  06-30  \n",
       "\n",
       "[107028 rows x 11 columns]"
      ]
     },
     "execution_count": 103,
     "metadata": {},
     "output_type": "execute_result"
    }
   ],
   "source": [
    "raw"
   ]
  },
  {
   "cell_type": "code",
   "execution_count": 71,
   "id": "287d3931",
   "metadata": {},
   "outputs": [
    {
     "data": {
      "text/html": [
       "<div>\n",
       "<style scoped>\n",
       "    .dataframe tbody tr th:only-of-type {\n",
       "        vertical-align: middle;\n",
       "    }\n",
       "\n",
       "    .dataframe tbody tr th {\n",
       "        vertical-align: top;\n",
       "    }\n",
       "\n",
       "    .dataframe thead th {\n",
       "        text-align: right;\n",
       "    }\n",
       "</style>\n",
       "<table border=\"1\" class=\"dataframe\">\n",
       "  <thead>\n",
       "    <tr style=\"text-align: right;\">\n",
       "      <th></th>\n",
       "      <th>승하자총승객수</th>\n",
       "    </tr>\n",
       "    <tr>\n",
       "      <th>요일</th>\n",
       "      <th></th>\n",
       "    </tr>\n",
       "  </thead>\n",
       "  <tbody>\n",
       "    <tr>\n",
       "      <th>금</th>\n",
       "      <td>445310717.0</td>\n",
       "    </tr>\n",
       "    <tr>\n",
       "      <th>목</th>\n",
       "      <td>428684383.0</td>\n",
       "    </tr>\n",
       "    <tr>\n",
       "      <th>수</th>\n",
       "      <td>421134136.0</td>\n",
       "    </tr>\n",
       "    <tr>\n",
       "      <th>월</th>\n",
       "      <td>391555551.0</td>\n",
       "    </tr>\n",
       "    <tr>\n",
       "      <th>일</th>\n",
       "      <td>247523995.0</td>\n",
       "    </tr>\n",
       "    <tr>\n",
       "      <th>토</th>\n",
       "      <td>341950018.0</td>\n",
       "    </tr>\n",
       "    <tr>\n",
       "      <th>화</th>\n",
       "      <td>411979965.0</td>\n",
       "    </tr>\n",
       "  </tbody>\n",
       "</table>\n",
       "</div>"
      ],
      "text/plain": [
       "        승하자총승객수\n",
       "요일             \n",
       "금   445310717.0\n",
       "목   428684383.0\n",
       "수   421134136.0\n",
       "월   391555551.0\n",
       "일   247523995.0\n",
       "토   341950018.0\n",
       "화   411979965.0"
      ]
     },
     "execution_count": 71,
     "metadata": {},
     "output_type": "execute_result"
    }
   ],
   "source": [
    "b= pd.pivot_table(raw,index='요일',values='승하자총승객수',aggfunc='sum')\n",
    "b"
   ]
  },
  {
   "cell_type": "markdown",
   "id": "399bb600",
   "metadata": {},
   "source": [
    "# 목요일보다 금요일이 커서 가설 기각 그럼 금요일이 승객수가 차이가 있는가?"
   ]
  },
  {
   "cell_type": "code",
   "execution_count": 116,
   "id": "1f3a9e38",
   "metadata": {
    "scrolled": true
   },
   "outputs": [
    {
     "data": {
      "text/html": [
       "<div>\n",
       "<style scoped>\n",
       "    .dataframe tbody tr th:only-of-type {\n",
       "        vertical-align: middle;\n",
       "    }\n",
       "\n",
       "    .dataframe tbody tr th {\n",
       "        vertical-align: top;\n",
       "    }\n",
       "\n",
       "    .dataframe thead th {\n",
       "        text-align: right;\n",
       "    }\n",
       "</style>\n",
       "<table border=\"1\" class=\"dataframe\">\n",
       "  <thead>\n",
       "    <tr style=\"text-align: right;\">\n",
       "      <th></th>\n",
       "      <th>승하자총승객수</th>\n",
       "    </tr>\n",
       "    <tr>\n",
       "      <th>사용일자</th>\n",
       "      <th></th>\n",
       "    </tr>\n",
       "  </thead>\n",
       "  <tbody>\n",
       "    <tr>\n",
       "      <th>2019-01-04</th>\n",
       "      <td>16509281.0</td>\n",
       "    </tr>\n",
       "    <tr>\n",
       "      <th>2019-01-11</th>\n",
       "      <td>16673540.0</td>\n",
       "    </tr>\n",
       "    <tr>\n",
       "      <th>2019-01-18</th>\n",
       "      <td>16692844.0</td>\n",
       "    </tr>\n",
       "    <tr>\n",
       "      <th>2019-01-25</th>\n",
       "      <td>16846166.0</td>\n",
       "    </tr>\n",
       "    <tr>\n",
       "      <th>2019-02-01</th>\n",
       "      <td>15931852.0</td>\n",
       "    </tr>\n",
       "    <tr>\n",
       "      <th>2019-02-08</th>\n",
       "      <td>15795223.0</td>\n",
       "    </tr>\n",
       "    <tr>\n",
       "      <th>2019-02-15</th>\n",
       "      <td>17161453.0</td>\n",
       "    </tr>\n",
       "    <tr>\n",
       "      <th>2019-02-22</th>\n",
       "      <td>17192259.0</td>\n",
       "    </tr>\n",
       "    <tr>\n",
       "      <th>2019-03-01</th>\n",
       "      <td>11826597.0</td>\n",
       "    </tr>\n",
       "    <tr>\n",
       "      <th>2019-03-08</th>\n",
       "      <td>17949442.0</td>\n",
       "    </tr>\n",
       "    <tr>\n",
       "      <th>2019-03-15</th>\n",
       "      <td>17612326.0</td>\n",
       "    </tr>\n",
       "    <tr>\n",
       "      <th>2019-03-22</th>\n",
       "      <td>17809320.0</td>\n",
       "    </tr>\n",
       "    <tr>\n",
       "      <th>2019-03-29</th>\n",
       "      <td>17935133.0</td>\n",
       "    </tr>\n",
       "    <tr>\n",
       "      <th>2019-04-05</th>\n",
       "      <td>17853561.0</td>\n",
       "    </tr>\n",
       "    <tr>\n",
       "      <th>2019-04-12</th>\n",
       "      <td>17992610.0</td>\n",
       "    </tr>\n",
       "    <tr>\n",
       "      <th>2019-04-19</th>\n",
       "      <td>17540212.0</td>\n",
       "    </tr>\n",
       "    <tr>\n",
       "      <th>2019-04-26</th>\n",
       "      <td>17687051.0</td>\n",
       "    </tr>\n",
       "    <tr>\n",
       "      <th>2019-05-03</th>\n",
       "      <td>18425509.0</td>\n",
       "    </tr>\n",
       "    <tr>\n",
       "      <th>2019-05-10</th>\n",
       "      <td>18297824.0</td>\n",
       "    </tr>\n",
       "    <tr>\n",
       "      <th>2019-05-17</th>\n",
       "      <td>18085208.0</td>\n",
       "    </tr>\n",
       "    <tr>\n",
       "      <th>2019-05-24</th>\n",
       "      <td>18107448.0</td>\n",
       "    </tr>\n",
       "    <tr>\n",
       "      <th>2019-05-31</th>\n",
       "      <td>17726946.0</td>\n",
       "    </tr>\n",
       "    <tr>\n",
       "      <th>2019-06-07</th>\n",
       "      <td>15557368.0</td>\n",
       "    </tr>\n",
       "    <tr>\n",
       "      <th>2019-06-14</th>\n",
       "      <td>17448083.0</td>\n",
       "    </tr>\n",
       "    <tr>\n",
       "      <th>2019-06-21</th>\n",
       "      <td>17482749.0</td>\n",
       "    </tr>\n",
       "    <tr>\n",
       "      <th>2019-06-28</th>\n",
       "      <td>17170712.0</td>\n",
       "    </tr>\n",
       "  </tbody>\n",
       "</table>\n",
       "</div>"
      ],
      "text/plain": [
       "               승하자총승객수\n",
       "사용일자                  \n",
       "2019-01-04  16509281.0\n",
       "2019-01-11  16673540.0\n",
       "2019-01-18  16692844.0\n",
       "2019-01-25  16846166.0\n",
       "2019-02-01  15931852.0\n",
       "2019-02-08  15795223.0\n",
       "2019-02-15  17161453.0\n",
       "2019-02-22  17192259.0\n",
       "2019-03-01  11826597.0\n",
       "2019-03-08  17949442.0\n",
       "2019-03-15  17612326.0\n",
       "2019-03-22  17809320.0\n",
       "2019-03-29  17935133.0\n",
       "2019-04-05  17853561.0\n",
       "2019-04-12  17992610.0\n",
       "2019-04-19  17540212.0\n",
       "2019-04-26  17687051.0\n",
       "2019-05-03  18425509.0\n",
       "2019-05-10  18297824.0\n",
       "2019-05-17  18085208.0\n",
       "2019-05-24  18107448.0\n",
       "2019-05-31  17726946.0\n",
       "2019-06-07  15557368.0\n",
       "2019-06-14  17448083.0\n",
       "2019-06-21  17482749.0\n",
       "2019-06-28  17170712.0"
      ]
     },
     "execution_count": 116,
     "metadata": {},
     "output_type": "execute_result"
    }
   ],
   "source": [
    "a=pd.DataFrame\n",
    "a=raw[raw['요일']=='금']\n",
    "a=a.groupby('사용일자')[['승하자총승객수']].sum()\n",
    "a"
   ]
  },
  {
   "cell_type": "markdown",
   "id": "0616c92e",
   "metadata": {},
   "source": [
    "# 금 데이터가 26개임으로 정규성을 검정할 필요가 있다."
   ]
  },
  {
   "cell_type": "markdown",
   "id": "0889ad68",
   "metadata": {},
   "source": [
    "# 정규성검정\n",
    "### 귀무가설: dataset이 정규분포를 따른다\n",
    "### 대립가설: dataset이 정규분포를 따르지 않는다\n",
    "### p<0.05 이면 귀무가설을 기각하고 대립가설o\n",
    "### p>0.05: 귀무가설 채택"
   ]
  },
  {
   "cell_type": "code",
   "execution_count": 73,
   "id": "a4c5591f",
   "metadata": {
    "scrolled": true
   },
   "outputs": [
    {
     "data": {
      "text/plain": [
       "pandas.core.frame.DataFrame"
      ]
     },
     "execution_count": 73,
     "metadata": {},
     "output_type": "execute_result"
    }
   ],
   "source": [
    "type(a)"
   ]
  },
  {
   "cell_type": "code",
   "execution_count": 74,
   "id": "f0ebbb4e",
   "metadata": {},
   "outputs": [
    {
     "name": "stdout",
     "output_type": "stream",
     "text": [
      "0.7258557081222534,p_value=1.2227431398059707e-05\n"
     ]
    }
   ],
   "source": [
    "test_stat,p_val = stats.shapiro(a)\n",
    "print(\"{},p_value={}\".format(test_stat,p_val))"
   ]
  },
  {
   "cell_type": "markdown",
   "id": "710b0c5d",
   "metadata": {},
   "source": [
    "# p_value<0.05 임으로 귀무가설 즉 정규분포를 따르지 않는다\n",
    "## 그럼으로 만위트니 검정을 사용한다 비모수검정\n"
   ]
  },
  {
   "cell_type": "code",
   "execution_count": 75,
   "id": "4b48c611",
   "metadata": {},
   "outputs": [],
   "source": [
    "grouped_day = raw.groupby('요일')\n",
    "\n",
    "group_mon = grouped_day.get_group('월')['승하자총승객수']\n",
    "group_tue = grouped_day.get_group('화')['승하자총승객수']\n",
    "group_wed = grouped_day.get_group('수')['승하자총승객수']\n",
    "group_thu = grouped_day.get_group('목')['승하자총승객수']\n",
    "group_fri = grouped_day.get_group('금')['승하자총승객수']\n",
    "group_sat = grouped_day.get_group('토')['승하자총승객수']\n",
    "group_sun = grouped_day.get_group('일')['승하자총승객수']\n"
   ]
  },
  {
   "cell_type": "code",
   "execution_count": 108,
   "id": "77df1d40",
   "metadata": {},
   "outputs": [
    {
     "data": {
      "text/plain": [
       "3546     111363.0\n",
       "3547      56003.0\n",
       "3548      99517.0\n",
       "3549      74850.0\n",
       "3550      58726.0\n",
       "           ...   \n",
       "14173     61853.0\n",
       "14174      9583.0\n",
       "14175     21364.0\n",
       "14176      4147.0\n",
       "14177      7161.0\n",
       "Name: 승하자총승객수, Length: 14790, dtype: float64"
      ]
     },
     "execution_count": 108,
     "metadata": {},
     "output_type": "execute_result"
    }
   ],
   "source": [
    "group_mon"
   ]
  },
  {
   "cell_type": "code",
   "execution_count": 93,
   "id": "deaedc57",
   "metadata": {},
   "outputs": [],
   "source": [
    "not_fri= pd.concat([group_mon, group_tue, group_wed, group_thu, group_sat, group_sun])\n",
    "\n",
    "not_fri = not_thu.squeeze()\n",
    "group_fri = group_thu.squeeze()\n"
   ]
  },
  {
   "cell_type": "code",
   "execution_count": 92,
   "id": "0d22f27d",
   "metadata": {},
   "outputs": [
    {
     "data": {
      "text/plain": [
       "24471.397453382942"
      ]
     },
     "execution_count": 92,
     "metadata": {},
     "output_type": "execute_result"
    }
   ],
   "source": [
    "np.mean(not_fri)"
   ]
  },
  {
   "cell_type": "code",
   "execution_count": 94,
   "id": "e09f76b5",
   "metadata": {},
   "outputs": [
    {
     "data": {
      "text/plain": [
       "27869.222662852684"
      ]
     },
     "execution_count": 94,
     "metadata": {},
     "output_type": "execute_result"
    }
   ],
   "source": [
    "np.mean(group_fri)"
   ]
  },
  {
   "cell_type": "code",
   "execution_count": 100,
   "id": "5effb380",
   "metadata": {},
   "outputs": [
    {
     "data": {
      "text/plain": [
       "MannwhitneyuResult(statistic=767322381.5, pvalue=2.1857073278968696e-69)"
      ]
     },
     "execution_count": 100,
     "metadata": {},
     "output_type": "execute_result"
    }
   ],
   "source": [
    "stats.mannwhitneyu(group_fri,not_fri)"
   ]
  },
  {
   "cell_type": "markdown",
   "id": "eaa6784e",
   "metadata": {},
   "source": [
    "# 만위트니 검정(비모수 독립표본 검증 방식)으로 했을때 p<0.05임으로 금요일은 차이가있다.\n",
    "\n"
   ]
  },
  {
   "cell_type": "code",
   "execution_count": 114,
   "id": "5c0e3835",
   "metadata": {},
   "outputs": [],
   "source": [
    "grouped_Month = raw.groupby('월')\n",
    "\n",
    "group_Jan = grouped_Month.get_group('01')['승하자총승객수']\n",
    "group_Feb = grouped_Month.get_group('02')['승하자총승객수']\n",
    "group_Mar = grouped_Month.get_group('03')['승하자총승객수']\n",
    "group_Apr = grouped_Month.get_group('04')['승하자총승객수']\n",
    "group_May = grouped_Month.get_group('05')['승하자총승객수']\n",
    "group_Jun = grouped_Month.get_group('06')['승하자총승객수']\n",
    "\n",
    "not_may= pd.concat([group_Jan,group_Feb,group_Mar,group_Jun,group_Apr])"
   ]
  },
  {
   "cell_type": "code",
   "execution_count": 115,
   "id": "1ab8d25b",
   "metadata": {},
   "outputs": [
    {
     "data": {
      "text/plain": [
       "Ttest_indResult(statistic=7.768367505836027, pvalue=8.020550554084754e-15)"
      ]
     },
     "execution_count": 115,
     "metadata": {},
     "output_type": "execute_result"
    }
   ],
   "source": [
    "stats.ttest_ind(group_May,not_may)"
   ]
  },
  {
   "cell_type": "markdown",
   "id": "d09f2cf8",
   "metadata": {},
   "source": [
    "# p<0.05임으로 1~6월중 5월 지하철 승객수는 유의미한 차이가 있다."
   ]
  },
  {
   "cell_type": "code",
   "execution_count": null,
   "id": "5a5c22b6",
   "metadata": {},
   "outputs": [],
   "source": []
  }
 ],
 "metadata": {
  "kernelspec": {
   "display_name": "Python 3 (ipykernel)",
   "language": "python",
   "name": "python3"
  },
  "language_info": {
   "codemirror_mode": {
    "name": "ipython",
    "version": 3
   },
   "file_extension": ".py",
   "mimetype": "text/x-python",
   "name": "python",
   "nbconvert_exporter": "python",
   "pygments_lexer": "ipython3",
   "version": "3.9.13"
  }
 },
 "nbformat": 4,
 "nbformat_minor": 5
}
