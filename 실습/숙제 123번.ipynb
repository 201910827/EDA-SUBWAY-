{
 "cells": [
  {
   "cell_type": "markdown",
   "id": "e44cf0e9",
   "metadata": {},
   "source": [
    "# 과제 1번 \n",
    "##2019.01~06 중  언제 지하철을 가장 많이 이용했을까?"
   ]
  },
  {
   "cell_type": "markdown",
   "id": "44c789a8",
   "metadata": {},
   "source": [
    "# 필요한 라이브러리 가져오기"
   ]
  },
  {
   "cell_type": "code",
   "execution_count": 2,
   "id": "4939bbac",
   "metadata": {},
   "outputs": [],
   "source": [
    "import pandas as pd"
   ]
  },
  {
   "cell_type": "code",
   "execution_count": 3,
   "id": "27887a27",
   "metadata": {},
   "outputs": [],
   "source": [
    "import numpy as np"
   ]
  },
  {
   "cell_type": "code",
   "execution_count": 4,
   "id": "719e72aa",
   "metadata": {},
   "outputs": [],
   "source": [
    "import matplotlib"
   ]
  },
  {
   "cell_type": "code",
   "execution_count": 5,
   "id": "0d2872b2",
   "metadata": {
    "scrolled": true
   },
   "outputs": [
    {
     "data": {
      "text/html": [
       "<div>\n",
       "<style scoped>\n",
       "    .dataframe tbody tr th:only-of-type {\n",
       "        vertical-align: middle;\n",
       "    }\n",
       "\n",
       "    .dataframe tbody tr th {\n",
       "        vertical-align: top;\n",
       "    }\n",
       "\n",
       "    .dataframe thead th {\n",
       "        text-align: right;\n",
       "    }\n",
       "</style>\n",
       "<table border=\"1\" class=\"dataframe\">\n",
       "  <thead>\n",
       "    <tr style=\"text-align: right;\">\n",
       "      <th></th>\n",
       "      <th>사용일자</th>\n",
       "      <th>노선명</th>\n",
       "      <th>역명</th>\n",
       "      <th>승차총승객수</th>\n",
       "      <th>하차총승객수</th>\n",
       "      <th>등록일자</th>\n",
       "    </tr>\n",
       "  </thead>\n",
       "  <tbody>\n",
       "    <tr>\n",
       "      <th>0</th>\n",
       "      <td>20190101</td>\n",
       "      <td>2호선</td>\n",
       "      <td>을지로4가</td>\n",
       "      <td>3862.0</td>\n",
       "      <td>3728.0</td>\n",
       "      <td>20190104</td>\n",
       "    </tr>\n",
       "    <tr>\n",
       "      <th>1</th>\n",
       "      <td>20190101</td>\n",
       "      <td>3호선</td>\n",
       "      <td>을지로3가</td>\n",
       "      <td>8104.0</td>\n",
       "      <td>7554.0</td>\n",
       "      <td>20190104</td>\n",
       "    </tr>\n",
       "    <tr>\n",
       "      <th>2</th>\n",
       "      <td>20190101</td>\n",
       "      <td>2호선</td>\n",
       "      <td>을지로입구</td>\n",
       "      <td>22478.0</td>\n",
       "      <td>21330.0</td>\n",
       "      <td>20190104</td>\n",
       "    </tr>\n",
       "    <tr>\n",
       "      <th>3</th>\n",
       "      <td>20190101</td>\n",
       "      <td>2호선</td>\n",
       "      <td>시청</td>\n",
       "      <td>8381.0</td>\n",
       "      <td>6049.0</td>\n",
       "      <td>20190104</td>\n",
       "    </tr>\n",
       "    <tr>\n",
       "      <th>4</th>\n",
       "      <td>20190101</td>\n",
       "      <td>6호선</td>\n",
       "      <td>동묘앞</td>\n",
       "      <td>8045.0</td>\n",
       "      <td>8504.0</td>\n",
       "      <td>20190104</td>\n",
       "    </tr>\n",
       "    <tr>\n",
       "      <th>...</th>\n",
       "      <td>...</td>\n",
       "      <td>...</td>\n",
       "      <td>...</td>\n",
       "      <td>...</td>\n",
       "      <td>...</td>\n",
       "      <td>...</td>\n",
       "    </tr>\n",
       "    <tr>\n",
       "      <th>18329</th>\n",
       "      <td>20190131</td>\n",
       "      <td>우이신설경전철</td>\n",
       "      <td>북한산보국문</td>\n",
       "      <td>6195.0</td>\n",
       "      <td>5786.0</td>\n",
       "      <td>20190203</td>\n",
       "    </tr>\n",
       "    <tr>\n",
       "      <th>18330</th>\n",
       "      <td>20190131</td>\n",
       "      <td>우이신설경전철</td>\n",
       "      <td>정릉</td>\n",
       "      <td>4600.0</td>\n",
       "      <td>4211.0</td>\n",
       "      <td>20190203</td>\n",
       "    </tr>\n",
       "    <tr>\n",
       "      <th>18331</th>\n",
       "      <td>20190131</td>\n",
       "      <td>4호선</td>\n",
       "      <td>성신여대입구</td>\n",
       "      <td>3922.0</td>\n",
       "      <td>4289.0</td>\n",
       "      <td>20190203</td>\n",
       "    </tr>\n",
       "    <tr>\n",
       "      <th>18332</th>\n",
       "      <td>20190131</td>\n",
       "      <td>6호선</td>\n",
       "      <td>보문</td>\n",
       "      <td>1659.0</td>\n",
       "      <td>1693.0</td>\n",
       "      <td>20190203</td>\n",
       "    </tr>\n",
       "    <tr>\n",
       "      <th>18333</th>\n",
       "      <td>20190131</td>\n",
       "      <td>1호선</td>\n",
       "      <td>신설동</td>\n",
       "      <td>2075.0</td>\n",
       "      <td>2215.0</td>\n",
       "      <td>20190203</td>\n",
       "    </tr>\n",
       "  </tbody>\n",
       "</table>\n",
       "<p>18334 rows × 6 columns</p>\n",
       "</div>"
      ],
      "text/plain": [
       "           사용일자      노선명      역명   승차총승객수   하차총승객수      등록일자\n",
       "0      20190101      2호선   을지로4가   3862.0   3728.0  20190104\n",
       "1      20190101      3호선   을지로3가   8104.0   7554.0  20190104\n",
       "2      20190101      2호선   을지로입구  22478.0  21330.0  20190104\n",
       "3      20190101      2호선      시청   8381.0   6049.0  20190104\n",
       "4      20190101      6호선     동묘앞   8045.0   8504.0  20190104\n",
       "...         ...      ...     ...      ...      ...       ...\n",
       "18329  20190131  우이신설경전철  북한산보국문   6195.0   5786.0  20190203\n",
       "18330  20190131  우이신설경전철      정릉   4600.0   4211.0  20190203\n",
       "18331  20190131      4호선  성신여대입구   3922.0   4289.0  20190203\n",
       "18332  20190131      6호선      보문   1659.0   1693.0  20190203\n",
       "18333  20190131      1호선     신설동   2075.0   2215.0  20190203\n",
       "\n",
       "[18334 rows x 6 columns]"
      ]
     },
     "execution_count": 5,
     "metadata": {},
     "output_type": "execute_result"
    }
   ],
   "source": [
    "# 파일 하나 불러오기\n",
    "file = r'.\\rawfiles\\rawfiles\\CARD_SUBWAY_MONTH_201901.csv'\n",
    "\n",
    "pd.read_csv(file)"
   ]
  },
  {
   "cell_type": "markdown",
   "id": "c6970211",
   "metadata": {},
   "source": [
    "# 데이터를 다합치기 "
   ]
  },
  {
   "cell_type": "code",
   "execution_count": 6,
   "id": "93f0b901",
   "metadata": {},
   "outputs": [],
   "source": [
    "#데이터 합치기\n",
    "raw = pd.DataFrame()\n",
    "file0=r'.\\rawfiles\\rawfiles\\CARD_SUBWAY_MONTH_201901.csv'\n",
    "file1=r'.\\rawfiles\\rawfiles\\CARD_SUBWAY_MONTH_201902.csv'\n",
    "file2=r'.\\rawfiles\\rawfiles\\CARD_SUBWAY_MONTH_201903.csv'\n",
    "file3=r'.\\rawfiles\\rawfiles\\CARD_SUBWAY_MONTH_201904.csv'\n",
    "file4=r'.\\rawfiles\\rawfiles\\CARD_SUBWAY_MONTH_201905.csv'\n",
    "file5=r'.\\rawfiles\\rawfiles\\CARD_SUBWAY_MONTH_201906.csv'\n",
    "\n",
    "\n",
    "temp0=pd.read_csv(file0)\n",
    "temp1=pd.read_csv(file1)\n",
    "temp2=pd.read_csv(file2)\n",
    "temp3=pd.read_csv(file3)\n",
    "temp4=pd.read_csv(file4)\n",
    "temp5=pd.read_csv(file5)\n",
    "\n",
    "raw = pd.concat([temp0,temp1,temp2,temp3,temp4,temp5])"
   ]
  },
  {
   "cell_type": "code",
   "execution_count": null,
   "id": "3ef446a2",
   "metadata": {},
   "outputs": [],
   "source": []
  },
  {
   "cell_type": "code",
   "execution_count": 7,
   "id": "ad49098e",
   "metadata": {},
   "outputs": [],
   "source": [
    "raw=raw.reset_index(drop=True) # 인덱스 초기화"
   ]
  },
  {
   "cell_type": "code",
   "execution_count": 8,
   "id": "780ae10e",
   "metadata": {},
   "outputs": [
    {
     "name": "stdout",
     "output_type": "stream",
     "text": [
      "<class 'pandas.core.frame.DataFrame'>\n",
      "RangeIndex: 107028 entries, 0 to 107027\n",
      "Data columns (total 6 columns):\n",
      " #   Column  Non-Null Count   Dtype  \n",
      "---  ------  --------------   -----  \n",
      " 0   사용일자    107028 non-null  int64  \n",
      " 1   노선명     107028 non-null  object \n",
      " 2   역명      107028 non-null  object \n",
      " 3   승차총승객수  107028 non-null  float64\n",
      " 4   하차총승객수  107028 non-null  float64\n",
      " 5   등록일자    107028 non-null  int64  \n",
      "dtypes: float64(2), int64(2), object(2)\n",
      "memory usage: 4.9+ MB\n"
     ]
    }
   ],
   "source": [
    "raw.info()"
   ]
  },
  {
   "cell_type": "code",
   "execution_count": 9,
   "id": "69eff372",
   "metadata": {},
   "outputs": [],
   "source": [
    "raw['사용일자'] = pd.to_datetime(raw['사용일자'], format='%Y%m%d')\n",
    "raw['요일'] = raw['사용일자'].dt.dayofweek\n"
   ]
  },
  {
   "cell_type": "code",
   "execution_count": 10,
   "id": "8785be37",
   "metadata": {
    "scrolled": true
   },
   "outputs": [
    {
     "data": {
      "text/html": [
       "<div>\n",
       "<style scoped>\n",
       "    .dataframe tbody tr th:only-of-type {\n",
       "        vertical-align: middle;\n",
       "    }\n",
       "\n",
       "    .dataframe tbody tr th {\n",
       "        vertical-align: top;\n",
       "    }\n",
       "\n",
       "    .dataframe thead th {\n",
       "        text-align: right;\n",
       "    }\n",
       "</style>\n",
       "<table border=\"1\" class=\"dataframe\">\n",
       "  <thead>\n",
       "    <tr style=\"text-align: right;\">\n",
       "      <th></th>\n",
       "      <th>사용일자</th>\n",
       "      <th>노선명</th>\n",
       "      <th>역명</th>\n",
       "      <th>승차총승객수</th>\n",
       "      <th>하차총승객수</th>\n",
       "      <th>등록일자</th>\n",
       "      <th>요일</th>\n",
       "    </tr>\n",
       "  </thead>\n",
       "  <tbody>\n",
       "    <tr>\n",
       "      <th>0</th>\n",
       "      <td>2019-01-01</td>\n",
       "      <td>2호선</td>\n",
       "      <td>을지로4가</td>\n",
       "      <td>3862.0</td>\n",
       "      <td>3728.0</td>\n",
       "      <td>20190104</td>\n",
       "      <td>1</td>\n",
       "    </tr>\n",
       "    <tr>\n",
       "      <th>1</th>\n",
       "      <td>2019-01-01</td>\n",
       "      <td>3호선</td>\n",
       "      <td>을지로3가</td>\n",
       "      <td>8104.0</td>\n",
       "      <td>7554.0</td>\n",
       "      <td>20190104</td>\n",
       "      <td>1</td>\n",
       "    </tr>\n",
       "    <tr>\n",
       "      <th>2</th>\n",
       "      <td>2019-01-01</td>\n",
       "      <td>2호선</td>\n",
       "      <td>을지로입구</td>\n",
       "      <td>22478.0</td>\n",
       "      <td>21330.0</td>\n",
       "      <td>20190104</td>\n",
       "      <td>1</td>\n",
       "    </tr>\n",
       "    <tr>\n",
       "      <th>3</th>\n",
       "      <td>2019-01-01</td>\n",
       "      <td>2호선</td>\n",
       "      <td>시청</td>\n",
       "      <td>8381.0</td>\n",
       "      <td>6049.0</td>\n",
       "      <td>20190104</td>\n",
       "      <td>1</td>\n",
       "    </tr>\n",
       "    <tr>\n",
       "      <th>4</th>\n",
       "      <td>2019-01-01</td>\n",
       "      <td>6호선</td>\n",
       "      <td>동묘앞</td>\n",
       "      <td>8045.0</td>\n",
       "      <td>8504.0</td>\n",
       "      <td>20190104</td>\n",
       "      <td>1</td>\n",
       "    </tr>\n",
       "  </tbody>\n",
       "</table>\n",
       "</div>"
      ],
      "text/plain": [
       "        사용일자  노선명     역명   승차총승객수   하차총승객수      등록일자  요일\n",
       "0 2019-01-01  2호선  을지로4가   3862.0   3728.0  20190104   1\n",
       "1 2019-01-01  3호선  을지로3가   8104.0   7554.0  20190104   1\n",
       "2 2019-01-01  2호선  을지로입구  22478.0  21330.0  20190104   1\n",
       "3 2019-01-01  2호선     시청   8381.0   6049.0  20190104   1\n",
       "4 2019-01-01  6호선    동묘앞   8045.0   8504.0  20190104   1"
      ]
     },
     "execution_count": 10,
     "metadata": {},
     "output_type": "execute_result"
    }
   ],
   "source": [
    "raw.head()"
   ]
  },
  {
   "cell_type": "code",
   "execution_count": 11,
   "id": "7bbac401",
   "metadata": {},
   "outputs": [],
   "source": [
    "conv = {\n",
    "    0 : '일',\n",
    "    1 : '월',\n",
    "    2 : '화',\n",
    "    3 : '수',\n",
    "    4 : '목',\n",
    "    5 : '금',\n",
    "    6 : '토'\n",
    "}\n",
    "raw['요일'] = raw['요일'].map(conv)"
   ]
  },
  {
   "cell_type": "code",
   "execution_count": 12,
   "id": "d7e6ba61",
   "metadata": {},
   "outputs": [
    {
     "data": {
      "text/html": [
       "<div>\n",
       "<style scoped>\n",
       "    .dataframe tbody tr th:only-of-type {\n",
       "        vertical-align: middle;\n",
       "    }\n",
       "\n",
       "    .dataframe tbody tr th {\n",
       "        vertical-align: top;\n",
       "    }\n",
       "\n",
       "    .dataframe thead th {\n",
       "        text-align: right;\n",
       "    }\n",
       "</style>\n",
       "<table border=\"1\" class=\"dataframe\">\n",
       "  <thead>\n",
       "    <tr style=\"text-align: right;\">\n",
       "      <th></th>\n",
       "      <th>사용일자</th>\n",
       "      <th>노선명</th>\n",
       "      <th>역명</th>\n",
       "      <th>승차총승객수</th>\n",
       "      <th>하차총승객수</th>\n",
       "      <th>등록일자</th>\n",
       "      <th>요일</th>\n",
       "    </tr>\n",
       "  </thead>\n",
       "  <tbody>\n",
       "    <tr>\n",
       "      <th>41235</th>\n",
       "      <td>2019-03-11</td>\n",
       "      <td>2호선</td>\n",
       "      <td>신당</td>\n",
       "      <td>10228.0</td>\n",
       "      <td>11050.0</td>\n",
       "      <td>20190314</td>\n",
       "      <td>일</td>\n",
       "    </tr>\n",
       "    <tr>\n",
       "      <th>58131</th>\n",
       "      <td>2019-04-09</td>\n",
       "      <td>3호선</td>\n",
       "      <td>옥수</td>\n",
       "      <td>68.0</td>\n",
       "      <td>58.0</td>\n",
       "      <td>20190412</td>\n",
       "      <td>월</td>\n",
       "    </tr>\n",
       "    <tr>\n",
       "      <th>27452</th>\n",
       "      <td>2019-02-16</td>\n",
       "      <td>3호선</td>\n",
       "      <td>종로3가</td>\n",
       "      <td>9982.0</td>\n",
       "      <td>16016.0</td>\n",
       "      <td>20190219</td>\n",
       "      <td>금</td>\n",
       "    </tr>\n",
       "    <tr>\n",
       "      <th>49758</th>\n",
       "      <td>2019-03-26</td>\n",
       "      <td>3호선</td>\n",
       "      <td>수서</td>\n",
       "      <td>20468.0</td>\n",
       "      <td>20239.0</td>\n",
       "      <td>20190329</td>\n",
       "      <td>월</td>\n",
       "    </tr>\n",
       "    <tr>\n",
       "      <th>46184</th>\n",
       "      <td>2019-03-20</td>\n",
       "      <td>분당선</td>\n",
       "      <td>모란</td>\n",
       "      <td>4979.0</td>\n",
       "      <td>3627.0</td>\n",
       "      <td>20190323</td>\n",
       "      <td>화</td>\n",
       "    </tr>\n",
       "    <tr>\n",
       "      <th>29526</th>\n",
       "      <td>2019-02-19</td>\n",
       "      <td>공항철도</td>\n",
       "      <td>공항화물청사</td>\n",
       "      <td>2981.0</td>\n",
       "      <td>3537.0</td>\n",
       "      <td>20190222</td>\n",
       "      <td>월</td>\n",
       "    </tr>\n",
       "    <tr>\n",
       "      <th>103994</th>\n",
       "      <td>2019-06-25</td>\n",
       "      <td>8호선</td>\n",
       "      <td>석촌</td>\n",
       "      <td>9206.0</td>\n",
       "      <td>10592.0</td>\n",
       "      <td>20190628</td>\n",
       "      <td>월</td>\n",
       "    </tr>\n",
       "    <tr>\n",
       "      <th>8252</th>\n",
       "      <td>2019-01-14</td>\n",
       "      <td>공항철도</td>\n",
       "      <td>영종</td>\n",
       "      <td>2340.0</td>\n",
       "      <td>2360.0</td>\n",
       "      <td>20190117</td>\n",
       "      <td>일</td>\n",
       "    </tr>\n",
       "    <tr>\n",
       "      <th>59896</th>\n",
       "      <td>2019-04-12</td>\n",
       "      <td>1호선</td>\n",
       "      <td>동인천</td>\n",
       "      <td>20097.0</td>\n",
       "      <td>19228.0</td>\n",
       "      <td>20190415</td>\n",
       "      <td>목</td>\n",
       "    </tr>\n",
       "    <tr>\n",
       "      <th>51238</th>\n",
       "      <td>2019-03-28</td>\n",
       "      <td>5호선</td>\n",
       "      <td>영등포시장</td>\n",
       "      <td>11243.0</td>\n",
       "      <td>11864.0</td>\n",
       "      <td>20190331</td>\n",
       "      <td>수</td>\n",
       "    </tr>\n",
       "  </tbody>\n",
       "</table>\n",
       "</div>"
      ],
      "text/plain": [
       "             사용일자   노선명      역명   승차총승객수   하차총승객수      등록일자 요일\n",
       "41235  2019-03-11   2호선      신당  10228.0  11050.0  20190314  일\n",
       "58131  2019-04-09   3호선      옥수     68.0     58.0  20190412  월\n",
       "27452  2019-02-16   3호선    종로3가   9982.0  16016.0  20190219  금\n",
       "49758  2019-03-26   3호선      수서  20468.0  20239.0  20190329  월\n",
       "46184  2019-03-20   분당선      모란   4979.0   3627.0  20190323  화\n",
       "29526  2019-02-19  공항철도  공항화물청사   2981.0   3537.0  20190222  월\n",
       "103994 2019-06-25   8호선      석촌   9206.0  10592.0  20190628  월\n",
       "8252   2019-01-14  공항철도      영종   2340.0   2360.0  20190117  일\n",
       "59896  2019-04-12   1호선     동인천  20097.0  19228.0  20190415  목\n",
       "51238  2019-03-28   5호선   영등포시장  11243.0  11864.0  20190331  수"
      ]
     },
     "execution_count": 12,
     "metadata": {},
     "output_type": "execute_result"
    }
   ],
   "source": [
    "raw.sample(10)"
   ]
  },
  {
   "cell_type": "code",
   "execution_count": 13,
   "id": "704c3f7b",
   "metadata": {},
   "outputs": [],
   "source": [
    "raw[\"월\"] = raw['사용일자'].dt.strftime('%m')       #새로은col생성 월이라는\n",
    "raw['승하자총승객수'] = raw['승차총승객수'] + raw['하차총승객수']"
   ]
  },
  {
   "cell_type": "code",
   "execution_count": 14,
   "id": "201b956f",
   "metadata": {},
   "outputs": [],
   "source": [
    "raw = raw[['사용일자','월','요일','노선명','역명','승차총승객수', '하차총승객수', '승하자총승객수','등록일자']]"
   ]
  },
  {
   "cell_type": "code",
   "execution_count": 15,
   "id": "14e305c6",
   "metadata": {},
   "outputs": [
    {
     "data": {
      "text/html": [
       "<div>\n",
       "<style scoped>\n",
       "    .dataframe tbody tr th:only-of-type {\n",
       "        vertical-align: middle;\n",
       "    }\n",
       "\n",
       "    .dataframe tbody tr th {\n",
       "        vertical-align: top;\n",
       "    }\n",
       "\n",
       "    .dataframe thead th {\n",
       "        text-align: right;\n",
       "    }\n",
       "</style>\n",
       "<table border=\"1\" class=\"dataframe\">\n",
       "  <thead>\n",
       "    <tr style=\"text-align: right;\">\n",
       "      <th></th>\n",
       "      <th>사용일자</th>\n",
       "      <th>월</th>\n",
       "      <th>요일</th>\n",
       "      <th>노선명</th>\n",
       "      <th>역명</th>\n",
       "      <th>승차총승객수</th>\n",
       "      <th>하차총승객수</th>\n",
       "      <th>승하자총승객수</th>\n",
       "      <th>등록일자</th>\n",
       "    </tr>\n",
       "  </thead>\n",
       "  <tbody>\n",
       "    <tr>\n",
       "      <th>0</th>\n",
       "      <td>2019-01-01</td>\n",
       "      <td>01</td>\n",
       "      <td>월</td>\n",
       "      <td>2호선</td>\n",
       "      <td>을지로4가</td>\n",
       "      <td>3862.0</td>\n",
       "      <td>3728.0</td>\n",
       "      <td>7590.0</td>\n",
       "      <td>20190104</td>\n",
       "    </tr>\n",
       "    <tr>\n",
       "      <th>1</th>\n",
       "      <td>2019-01-01</td>\n",
       "      <td>01</td>\n",
       "      <td>월</td>\n",
       "      <td>3호선</td>\n",
       "      <td>을지로3가</td>\n",
       "      <td>8104.0</td>\n",
       "      <td>7554.0</td>\n",
       "      <td>15658.0</td>\n",
       "      <td>20190104</td>\n",
       "    </tr>\n",
       "    <tr>\n",
       "      <th>2</th>\n",
       "      <td>2019-01-01</td>\n",
       "      <td>01</td>\n",
       "      <td>월</td>\n",
       "      <td>2호선</td>\n",
       "      <td>을지로입구</td>\n",
       "      <td>22478.0</td>\n",
       "      <td>21330.0</td>\n",
       "      <td>43808.0</td>\n",
       "      <td>20190104</td>\n",
       "    </tr>\n",
       "    <tr>\n",
       "      <th>3</th>\n",
       "      <td>2019-01-01</td>\n",
       "      <td>01</td>\n",
       "      <td>월</td>\n",
       "      <td>2호선</td>\n",
       "      <td>시청</td>\n",
       "      <td>8381.0</td>\n",
       "      <td>6049.0</td>\n",
       "      <td>14430.0</td>\n",
       "      <td>20190104</td>\n",
       "    </tr>\n",
       "    <tr>\n",
       "      <th>4</th>\n",
       "      <td>2019-01-01</td>\n",
       "      <td>01</td>\n",
       "      <td>월</td>\n",
       "      <td>6호선</td>\n",
       "      <td>동묘앞</td>\n",
       "      <td>8045.0</td>\n",
       "      <td>8504.0</td>\n",
       "      <td>16549.0</td>\n",
       "      <td>20190104</td>\n",
       "    </tr>\n",
       "  </tbody>\n",
       "</table>\n",
       "</div>"
      ],
      "text/plain": [
       "        사용일자   월 요일  노선명     역명   승차총승객수   하차총승객수  승하자총승객수      등록일자\n",
       "0 2019-01-01  01  월  2호선  을지로4가   3862.0   3728.0   7590.0  20190104\n",
       "1 2019-01-01  01  월  3호선  을지로3가   8104.0   7554.0  15658.0  20190104\n",
       "2 2019-01-01  01  월  2호선  을지로입구  22478.0  21330.0  43808.0  20190104\n",
       "3 2019-01-01  01  월  2호선     시청   8381.0   6049.0  14430.0  20190104\n",
       "4 2019-01-01  01  월  6호선    동묘앞   8045.0   8504.0  16549.0  20190104"
      ]
     },
     "execution_count": 15,
     "metadata": {},
     "output_type": "execute_result"
    }
   ],
   "source": [
    "\n",
    "raw.head()"
   ]
  },
  {
   "cell_type": "code",
   "execution_count": 16,
   "id": "d92058e4",
   "metadata": {},
   "outputs": [
    {
     "data": {
      "text/plain": [
       "221848014.0"
      ]
     },
     "execution_count": 16,
     "metadata": {},
     "output_type": "execute_result"
    }
   ],
   "source": [
    "raw.groupby('월').get_group('01')['승차총승객수'].sum()"
   ]
  },
  {
   "cell_type": "code",
   "execution_count": 24,
   "id": "4fd0b9c4",
   "metadata": {},
   "outputs": [
    {
     "data": {
      "text/plain": [
       "월\n",
       "01    442746389.0\n",
       "02    379836010.0\n",
       "03    466692826.0\n",
       "04    470934348.0\n",
       "05    485718557.0\n",
       "06    442210635.0\n",
       "Name: 승하자총승객수, dtype: float64"
      ]
     },
     "execution_count": 24,
     "metadata": {},
     "output_type": "execute_result"
    }
   ],
   "source": [
    "a = raw.groupby('월').sum()['승하자총승객수']   #월마다 합을 구함\n",
    "a"
   ]
  },
  {
   "cell_type": "code",
   "execution_count": 18,
   "id": "22695a2d",
   "metadata": {},
   "outputs": [
    {
     "data": {
      "text/plain": [
       "485718557.0"
      ]
     },
     "execution_count": 18,
     "metadata": {},
     "output_type": "execute_result"
    }
   ],
   "source": [
    "raw.groupby('월').sum()['승하자총승객수'].max()"
   ]
  },
  {
   "cell_type": "code",
   "execution_count": 19,
   "id": "3d26c017",
   "metadata": {
    "scrolled": true
   },
   "outputs": [
    {
     "data": {
      "text/plain": [
       "Index(['승하자총승객수'], dtype='object')"
      ]
     },
     "execution_count": 19,
     "metadata": {},
     "output_type": "execute_result"
    }
   ],
   "source": [
    "pd.DataFrame(a).columns        # groupby함수를 사용하여 월이라는 컬럼에 접급하고 싶었으나 a가 컬럼이 아니였다"
   ]
  },
  {
   "cell_type": "code",
   "execution_count": 20,
   "id": "6dcc7653",
   "metadata": {},
   "outputs": [
    {
     "data": {
      "text/plain": [
       "'05월'"
      ]
     },
     "execution_count": 20,
     "metadata": {},
     "output_type": "execute_result"
    }
   ],
   "source": [
    "b = raw.groupby('월').sum()['승하자총승객수']          \n",
    "index = b.reset_index()['승하자총승객수'].idxmax()     \n",
    "b.reset_index()['월'][index] + str('월')                 # idxmax(),reset_index()함수를 사용하여  가장많은 달인 5월이 나오게 하였다."
   ]
  },
  {
   "cell_type": "markdown",
   "id": "1f86dab6",
   "metadata": {},
   "source": [
    "# 5월이 가장 많을 걸  알수 있다"
   ]
  },
  {
   "cell_type": "markdown",
   "id": "3bf6a6be",
   "metadata": {},
   "source": [
    "# 요일 중에 많은것도 똑같이 하면된다\n"
   ]
  },
  {
   "cell_type": "code",
   "execution_count": 23,
   "id": "85d6ceab",
   "metadata": {},
   "outputs": [],
   "source": [
    "a = raw.groupby('요일').sum()['승하자총승객수']"
   ]
  },
  {
   "cell_type": "code",
   "execution_count": null,
   "id": "6a57df4a",
   "metadata": {},
   "outputs": [],
   "source": []
  },
  {
   "cell_type": "code",
   "execution_count": 24,
   "id": "be97040a",
   "metadata": {},
   "outputs": [
    {
     "data": {
      "text/plain": [
       "445310717.0"
      ]
     },
     "execution_count": 24,
     "metadata": {},
     "output_type": "execute_result"
    }
   ],
   "source": [
    "raw.groupby('요일').sum()['승하자총승객수'].max()"
   ]
  },
  {
   "cell_type": "code",
   "execution_count": 25,
   "id": "192394c4",
   "metadata": {},
   "outputs": [
    {
     "data": {
      "text/html": [
       "<div>\n",
       "<style scoped>\n",
       "    .dataframe tbody tr th:only-of-type {\n",
       "        vertical-align: middle;\n",
       "    }\n",
       "\n",
       "    .dataframe tbody tr th {\n",
       "        vertical-align: top;\n",
       "    }\n",
       "\n",
       "    .dataframe thead th {\n",
       "        text-align: right;\n",
       "    }\n",
       "</style>\n",
       "<table border=\"1\" class=\"dataframe\">\n",
       "  <thead>\n",
       "    <tr style=\"text-align: right;\">\n",
       "      <th></th>\n",
       "      <th>요일</th>\n",
       "      <th>승하자총승객수</th>\n",
       "    </tr>\n",
       "  </thead>\n",
       "  <tbody>\n",
       "    <tr>\n",
       "      <th>0</th>\n",
       "      <td>금</td>\n",
       "      <td>341950018.0</td>\n",
       "    </tr>\n",
       "    <tr>\n",
       "      <th>1</th>\n",
       "      <td>목</td>\n",
       "      <td>445310717.0</td>\n",
       "    </tr>\n",
       "    <tr>\n",
       "      <th>2</th>\n",
       "      <td>수</td>\n",
       "      <td>428684383.0</td>\n",
       "    </tr>\n",
       "    <tr>\n",
       "      <th>3</th>\n",
       "      <td>월</td>\n",
       "      <td>411979965.0</td>\n",
       "    </tr>\n",
       "    <tr>\n",
       "      <th>4</th>\n",
       "      <td>일</td>\n",
       "      <td>391555551.0</td>\n",
       "    </tr>\n",
       "    <tr>\n",
       "      <th>5</th>\n",
       "      <td>토</td>\n",
       "      <td>247523995.0</td>\n",
       "    </tr>\n",
       "    <tr>\n",
       "      <th>6</th>\n",
       "      <td>화</td>\n",
       "      <td>421134136.0</td>\n",
       "    </tr>\n",
       "  </tbody>\n",
       "</table>\n",
       "</div>"
      ],
      "text/plain": [
       "  요일      승하자총승객수\n",
       "0  금  341950018.0\n",
       "1  목  445310717.0\n",
       "2  수  428684383.0\n",
       "3  월  411979965.0\n",
       "4  일  391555551.0\n",
       "5  토  247523995.0\n",
       "6  화  421134136.0"
      ]
     },
     "execution_count": 25,
     "metadata": {},
     "output_type": "execute_result"
    }
   ],
   "source": [
    "a.reset_index()"
   ]
  },
  {
   "cell_type": "code",
   "execution_count": 26,
   "id": "d876b120",
   "metadata": {
    "scrolled": true
   },
   "outputs": [
    {
     "data": {
      "text/plain": [
       "'목요일'"
      ]
     },
     "execution_count": 26,
     "metadata": {},
     "output_type": "execute_result"
    }
   ],
   "source": [
    "index = a.reset_index()['승하자총승객수'].idxmax()\n",
    "a.reset_index()['요일'][index] + str('요일')"
   ]
  },
  {
   "cell_type": "code",
   "execution_count": 33,
   "id": "acd8952a",
   "metadata": {},
   "outputs": [
    {
     "data": {
      "text/html": [
       "<div>\n",
       "<style scoped>\n",
       "    .dataframe tbody tr th:only-of-type {\n",
       "        vertical-align: middle;\n",
       "    }\n",
       "\n",
       "    .dataframe tbody tr th {\n",
       "        vertical-align: top;\n",
       "    }\n",
       "\n",
       "    .dataframe thead th {\n",
       "        text-align: right;\n",
       "    }\n",
       "</style>\n",
       "<table border=\"1\" class=\"dataframe\">\n",
       "  <thead>\n",
       "    <tr style=\"text-align: right;\">\n",
       "      <th></th>\n",
       "      <th>요일</th>\n",
       "      <th>승하자총승객수</th>\n",
       "    </tr>\n",
       "  </thead>\n",
       "  <tbody>\n",
       "    <tr>\n",
       "      <th>0</th>\n",
       "      <td>월</td>\n",
       "      <td>7590.0</td>\n",
       "    </tr>\n",
       "    <tr>\n",
       "      <th>1</th>\n",
       "      <td>월</td>\n",
       "      <td>15658.0</td>\n",
       "    </tr>\n",
       "    <tr>\n",
       "      <th>2</th>\n",
       "      <td>월</td>\n",
       "      <td>43808.0</td>\n",
       "    </tr>\n",
       "    <tr>\n",
       "      <th>3</th>\n",
       "      <td>월</td>\n",
       "      <td>14430.0</td>\n",
       "    </tr>\n",
       "    <tr>\n",
       "      <th>4</th>\n",
       "      <td>월</td>\n",
       "      <td>16549.0</td>\n",
       "    </tr>\n",
       "    <tr>\n",
       "      <th>...</th>\n",
       "      <td>...</td>\n",
       "      <td>...</td>\n",
       "    </tr>\n",
       "    <tr>\n",
       "      <th>107023</th>\n",
       "      <td>토</td>\n",
       "      <td>12738.0</td>\n",
       "    </tr>\n",
       "    <tr>\n",
       "      <th>107024</th>\n",
       "      <td>토</td>\n",
       "      <td>28773.0</td>\n",
       "    </tr>\n",
       "    <tr>\n",
       "      <th>107025</th>\n",
       "      <td>토</td>\n",
       "      <td>18497.0</td>\n",
       "    </tr>\n",
       "    <tr>\n",
       "      <th>107026</th>\n",
       "      <td>토</td>\n",
       "      <td>22766.0</td>\n",
       "    </tr>\n",
       "    <tr>\n",
       "      <th>107027</th>\n",
       "      <td>토</td>\n",
       "      <td>10944.0</td>\n",
       "    </tr>\n",
       "  </tbody>\n",
       "</table>\n",
       "<p>107028 rows × 2 columns</p>\n",
       "</div>"
      ],
      "text/plain": [
       "       요일  승하자총승객수\n",
       "0       월   7590.0\n",
       "1       월  15658.0\n",
       "2       월  43808.0\n",
       "3       월  14430.0\n",
       "4       월  16549.0\n",
       "...    ..      ...\n",
       "107023  토  12738.0\n",
       "107024  토  28773.0\n",
       "107025  토  18497.0\n",
       "107026  토  22766.0\n",
       "107027  토  10944.0\n",
       "\n",
       "[107028 rows x 2 columns]"
      ]
     },
     "execution_count": 33,
     "metadata": {},
     "output_type": "execute_result"
    }
   ],
   "source": [
    "a = raw[['요일','승하자총승객수']]\n",
    "pd.DataFrame(a)"
   ]
  },
  {
   "cell_type": "code",
   "execution_count": 41,
   "id": "0458641d",
   "metadata": {},
   "outputs": [
    {
     "ename": "AttributeError",
     "evalue": "'DataFrame' object has no attribute 'groupy'",
     "output_type": "error",
     "traceback": [
      "\u001b[1;31m---------------------------------------------------------------------------\u001b[0m",
      "\u001b[1;31mAttributeError\u001b[0m                            Traceback (most recent call last)",
      "Input \u001b[1;32mIn [41]\u001b[0m, in \u001b[0;36m<cell line: 2>\u001b[1;34m()\u001b[0m\n\u001b[0;32m      1\u001b[0m \u001b[38;5;66;03m#elements,val = np.unique(a, return_counts=True)\u001b[39;00m\n\u001b[1;32m----> 2\u001b[0m \u001b[43mraw\u001b[49m\u001b[38;5;241;43m.\u001b[39;49m\u001b[43mgroupy\u001b[49m([\u001b[38;5;124m'\u001b[39m\u001b[38;5;124m요일\u001b[39m\u001b[38;5;124m'\u001b[39m])[\u001b[38;5;124m'\u001b[39m\u001b[38;5;124m월\u001b[39m\u001b[38;5;124m'\u001b[39m]\n",
      "File \u001b[1;32m~\\AppData\\Local\\Programs\\Python\\Python39\\lib\\site-packages\\pandas\\core\\generic.py:5575\u001b[0m, in \u001b[0;36mNDFrame.__getattr__\u001b[1;34m(self, name)\u001b[0m\n\u001b[0;32m   5568\u001b[0m \u001b[38;5;28;01mif\u001b[39;00m (\n\u001b[0;32m   5569\u001b[0m     name \u001b[38;5;129;01mnot\u001b[39;00m \u001b[38;5;129;01min\u001b[39;00m \u001b[38;5;28mself\u001b[39m\u001b[38;5;241m.\u001b[39m_internal_names_set\n\u001b[0;32m   5570\u001b[0m     \u001b[38;5;129;01mand\u001b[39;00m name \u001b[38;5;129;01mnot\u001b[39;00m \u001b[38;5;129;01min\u001b[39;00m \u001b[38;5;28mself\u001b[39m\u001b[38;5;241m.\u001b[39m_metadata\n\u001b[0;32m   5571\u001b[0m     \u001b[38;5;129;01mand\u001b[39;00m name \u001b[38;5;129;01mnot\u001b[39;00m \u001b[38;5;129;01min\u001b[39;00m \u001b[38;5;28mself\u001b[39m\u001b[38;5;241m.\u001b[39m_accessors\n\u001b[0;32m   5572\u001b[0m     \u001b[38;5;129;01mand\u001b[39;00m \u001b[38;5;28mself\u001b[39m\u001b[38;5;241m.\u001b[39m_info_axis\u001b[38;5;241m.\u001b[39m_can_hold_identifiers_and_holds_name(name)\n\u001b[0;32m   5573\u001b[0m ):\n\u001b[0;32m   5574\u001b[0m     \u001b[38;5;28;01mreturn\u001b[39;00m \u001b[38;5;28mself\u001b[39m[name]\n\u001b[1;32m-> 5575\u001b[0m \u001b[38;5;28;01mreturn\u001b[39;00m \u001b[38;5;28;43mobject\u001b[39;49m\u001b[38;5;241;43m.\u001b[39;49m\u001b[38;5;21;43m__getattribute__\u001b[39;49m\u001b[43m(\u001b[49m\u001b[38;5;28;43mself\u001b[39;49m\u001b[43m,\u001b[49m\u001b[43m \u001b[49m\u001b[43mname\u001b[49m\u001b[43m)\u001b[49m\n",
      "\u001b[1;31mAttributeError\u001b[0m: 'DataFrame' object has no attribute 'groupy'"
     ]
    }
   ],
   "source": [
    "#elements,val = np.unique(a, return_counts=True)\n",
    "raw.groupy(['요일'])\n"
   ]
  },
  {
   "cell_type": "code",
   "execution_count": 187,
   "id": "a839075a",
   "metadata": {},
   "outputs": [
    {
     "data": {
      "text/plain": [
       "<AxesSubplot: >"
      ]
     },
     "execution_count": 187,
     "metadata": {},
     "output_type": "execute_result"
    },
    {
     "data": {
      "image/png": "[encoded data removed]",
      "text/plain": [
       "<Figure size 432x288 with 1 Axes>"
      ]
     },
     "metadata": {
      "needs_background": "light"
     },
     "output_type": "display_data"
    }
   ],
   "source": [
    "a.value_counts().plot(kind='bar')"
   ]
  },
  {
   "cell_type": "code",
   "execution_count": 185,
   "id": "6619651e",
   "metadata": {},
   "outputs": [
    {
     "name": "stdout",
     "output_type": "stream",
     "text": [
      "Package              Version\n",
      "-------------------- -----------\n",
      "argon2-cffi          21.3.0\n",
      "argon2-cffi-bindings 21.2.0\n",
      "asttokens            2.0.5\n",
      "attrs                21.4.0\n",
      "backcall             0.2.0\n",
      "beautifulsoup4       4.11.1\n",
      "bleach               5.0.1\n",
      "cffi                 1.15.1\n",
      "colorama             0.4.5\n",
      "debugpy              1.6.0\n",
      "decorator            5.1.1\n",
      "defusedxml           0.7.1\n",
      "entrypoints          0.4\n",
      "executing            0.8.3\n",
      "fastjsonschema       2.15.3\n",
      "ipykernel            6.15.0\n",
      "ipython              8.4.0\n",
      "ipython-genutils     0.2.0\n",
      "ipywidgets           7.7.1\n",
      "jedi                 0.18.1\n",
      "Jinja2               3.1.2\n",
      "jsonschema           4.6.1\n",
      "jupyter              1.0.0\n",
      "jupyter-client       7.3.4\n",
      "jupyter-console      6.4.4\n",
      "jupyter-core         4.10.0\n",
      "jupyterlab-pygments  0.2.2\n",
      "jupyterlab-widgets   1.1.1\n",
      "MarkupSafe           2.1.1\n",
      "matplotlib-inline    0.1.3\n",
      "mistune              0.8.4\n",
      "nbclient             0.6.6\n",
      "nbconvert            6.5.0\n",
      "nbformat             5.4.0\n",
      "nest-asyncio         1.5.5\n",
      "notebook             6.4.12\n",
      "numpy                1.23.2\n",
      "packaging            21.3\n",
      "pandas               1.4.4\n",
      "pandocfilters        1.5.0\n",
      "parso                0.8.3\n",
      "pickleshare          0.7.5\n",
      "pip                  22.1.2\n",
      "prometheus-client    0.14.1\n",
      "prompt-toolkit       3.0.30\n",
      "psutil               5.9.1\n",
      "pure-eval            0.2.2\n",
      "pycparser            2.21\n",
      "Pygments             2.12.0\n",
      "pyparsing            3.0.9\n",
      "pyrsistent           0.18.1\n",
      "python-dateutil      2.8.2\n",
      "pytz                 2022.2.1\n",
      "pywin32              304\n",
      "pywinpty             2.0.5\n",
      "pyzmq                23.2.0\n",
      "qtconsole            5.3.1\n",
      "QtPy                 2.1.0\n",
      "Send2Trash           1.8.0\n",
      "setuptools           58.1.0\n",
      "six                  1.16.0\n",
      "soupsieve            2.3.2.post1\n",
      "stack-data           0.3.0\n",
      "terminado            0.15.0\n",
      "tinycss2             1.1.1\n",
      "tornado              6.2\n",
      "traitlets            5.3.0\n",
      "wcwidth              0.2.5\n",
      "webencodings         0.5.1\n",
      "widgetsnbextension   3.6.1\n",
      "\n",
      "[notice] A new release of pip available: 22.1.2 -> 22.2.2\n",
      "[notice] To update, run: python.exe -m pip install --upgrade pip\n"
     ]
    }
   ],
   "source": [
    "!pip list"
   ]
  },
  {
   "cell_type": "code",
   "execution_count": 186,
   "id": "e507dd9e",
   "metadata": {},
   "outputs": [
    {
     "name": "stdout",
     "output_type": "stream",
     "text": [
      "Collecting matplotlib\n",
      "  Downloading matplotlib-3.6.0-cp39-cp39-win_amd64.whl (7.2 MB)\n",
      "     ---------------------------------------- 7.2/7.2 MB 17.7 MB/s eta 0:00:00\n",
      "Requirement already satisfied: packaging>=20.0 in c:\\users\\user\\appdata\\local\\programs\\python\\python39\\lib\\site-packages (from matplotlib) (21.3)\n",
      "Collecting fonttools>=4.22.0\n",
      "  Downloading fonttools-4.37.3-py3-none-any.whl (959 kB)\n",
      "     ------------------------------------- 960.0/960.0 kB 20.2 MB/s eta 0:00:00\n",
      "Collecting cycler>=0.10\n",
      "  Downloading cycler-0.11.0-py3-none-any.whl (6.4 kB)\n",
      "Requirement already satisfied: python-dateutil>=2.7 in c:\\users\\user\\appdata\\local\\programs\\python\\python39\\lib\\site-packages (from matplotlib) (2.8.2)\n",
      "Requirement already satisfied: numpy>=1.19 in c:\\users\\user\\appdata\\local\\programs\\python\\python39\\lib\\site-packages (from matplotlib) (1.23.2)\n",
      "Requirement already satisfied: pyparsing>=2.2.1 in c:\\users\\user\\appdata\\local\\programs\\python\\python39\\lib\\site-packages (from matplotlib) (3.0.9)\n",
      "Collecting kiwisolver>=1.0.1\n",
      "  Downloading kiwisolver-1.4.4-cp39-cp39-win_amd64.whl (55 kB)\n",
      "     ---------------------------------------- 55.4/55.4 kB ? eta 0:00:00\n",
      "Collecting contourpy>=1.0.1\n",
      "  Downloading contourpy-1.0.5-cp39-cp39-win_amd64.whl (161 kB)\n",
      "     -------------------------------------- 162.0/162.0 kB 9.5 MB/s eta 0:00:00\n",
      "Collecting pillow>=6.2.0\n",
      "  Downloading Pillow-9.2.0-cp39-cp39-win_amd64.whl (3.3 MB)\n",
      "     ---------------------------------------- 3.3/3.3 MB 16.1 MB/s eta 0:00:00\n",
      "Requirement already satisfied: six>=1.5 in c:\\users\\user\\appdata\\local\\programs\\python\\python39\\lib\\site-packages (from python-dateutil>=2.7->matplotlib) (1.16.0)\n",
      "Installing collected packages: pillow, kiwisolver, fonttools, cycler, contourpy, matplotlib\n",
      "Successfully installed contourpy-1.0.5 cycler-0.11.0 fonttools-4.37.3 kiwisolver-1.4.4 matplotlib-3.6.0 pillow-9.2.0\n",
      "\n",
      "[notice] A new release of pip available: 22.1.2 -> 22.2.2\n",
      "[notice] To update, run: python.exe -m pip install --upgrade pip\n"
     ]
    }
   ],
   "source": [
    "!pip install matplotlib"
   ]
  },
  {
   "cell_type": "code",
   "execution_count": null,
   "id": "0fc58b53",
   "metadata": {},
   "outputs": [],
   "source": []
  }
 ],
 "metadata": {
  "kernelspec": {
   "display_name": "Python 3 (ipykernel)",
   "language": "python",
   "name": "python3"
  },
  "language_info": {
   "codemirror_mode": {
    "name": "ipython",
    "version": 3
   },
   "file_extension": ".py",
   "mimetype": "text/x-python",
   "name": "python",
   "nbconvert_exporter": "python",
   "pygments_lexer": "ipython3",
   "version": "3.9.13"
  }
 },
 "nbformat": 4,
 "nbformat_minor": 5
}
